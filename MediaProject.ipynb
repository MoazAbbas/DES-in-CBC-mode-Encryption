{
  "nbformat": 4,
  "nbformat_minor": 0,
  "metadata": {
    "colab": {
      "provenance": [],
      "authorship_tag": "ABX9TyMcgAe0ARaROSucFL4osVJT",
      "include_colab_link": true
    },
    "kernelspec": {
      "name": "python3",
      "display_name": "Python 3"
    },
    "language_info": {
      "name": "python"
    }
  },
  "cells": [
    {
      "cell_type": "markdown",
      "metadata": {
        "id": "view-in-github",
        "colab_type": "text"
      },
      "source": [
        "<a href=\"https://colab.research.google.com/github/MoazAbbas/DES-in-CBC-mode-Encryption/blob/main/MediaProject.ipynb\" target=\"_parent\"><img src=\"https://colab.research.google.com/assets/colab-badge.svg\" alt=\"Open In Colab\"/></a>"
      ]
    },
    {
      "cell_type": "code",
      "execution_count": 91,
      "metadata": {
        "id": "cqKSU2reYsN9"
      },
      "outputs": [],
      "source": [
        "import numpy as np\n",
        "from PIL import Image\n",
        "import matplotlib.pyplot as plt\n",
        "from PIL import ImageDraw\n",
        "from scipy.ndimage import convolve\n",
        "# Load the CSV as a numpy array\n",
        "pixels = np.loadtxt(\"/content/secret_image .csv\", delimiter=',')\n",
        "pixels = pixels.astype(np.uint8)\n",
        "\n",
        "# Create and save grayscale image\n",
        "img = Image.fromarray(pixels, mode='L')\n",
        "img.save(\"output_image.png\")\n",
        "\n",
        "# Save color-mapped versions\n",
        "plt.imsave('image_plasma.png', pixels, cmap='plasma')\n",
        "plt.imsave('image_hot.png', pixels, cmap='hot')\n"
      ]
    },
    {
      "cell_type": "code",
      "source": [
        "#phase 2\n",
        "black_pixel_coords = np.argwhere(pixels == 0)\n",
        "\n",
        "# Count black pixels\n",
        "black_pixel_count = len(black_pixel_coords)\n",
        "print(f\"Number of black pixels: {black_pixel_count}\")\n",
        "\n",
        "# Print coordinates\n",
        "print(\"Coordinates of black pixels:\")\n",
        "for y, x in black_pixel_coords:  # note: rows = y, cols = x\n",
        "    print(f\"({x}, {y})\")\n",
        "\n",
        "# Bounding box (min/max x and y)\n",
        "if black_pixel_count > 0:\n",
        "    ys, xs = black_pixel_coords[:, 0], black_pixel_coords[:, 1]\n",
        "    min_x, max_x = xs.min(), xs.max()\n",
        "    min_y, max_y = ys.min(), ys.max()\n",
        "    print(f\"Bounding box:\")\n",
        "    print(f\"  min_x: {min_x}, max_x: {max_x}\")\n",
        "    print(f\"  min_y: {min_y}, max_y: {max_y}\")\n",
        "else:\n",
        "    print(\"No black pixels found.\")"
      ],
      "metadata": {
        "colab": {
          "base_uri": "https://localhost:8080/"
        },
        "id": "hIEYXCu2l-lU",
        "outputId": "b79676ad-5c11-47c4-c83a-69973288013a"
      },
      "execution_count": 92,
      "outputs": [
        {
          "output_type": "stream",
          "name": "stdout",
          "text": [
            "Number of black pixels: 9\n",
            "Coordinates of black pixels:\n",
            "(5, 5)\n",
            "(14, 5)\n",
            "(6, 13)\n",
            "(12, 13)\n",
            "(7, 14)\n",
            "(8, 14)\n",
            "(9, 14)\n",
            "(10, 14)\n",
            "(11, 14)\n",
            "Bounding box:\n",
            "  min_x: 5, max_x: 14\n",
            "  min_y: 5, max_y: 14\n"
          ]
        }
      ]
    },
    {
      "cell_type": "code",
      "source": [
        "\n",
        "def get_shape_pixels(image_array):\n",
        "    rows, cols = image_array.shape\n",
        "    shape_pixels = []\n",
        "\n",
        "    # Find connected black pixels with black neighbors\n",
        "    for r in range(rows):\n",
        "        for c in range(cols):\n",
        "            if image_array[r, c] == 0:  # black pixel\n",
        "                neighbors = [\n",
        "                    (r - 1, c), (r + 1, c),\n",
        "                    (r, c - 1), (r, c + 1),\n",
        "                    (r - 1, c - 1), (r - 1, c + 1),\n",
        "                    (r + 1, c - 1), (r + 1, c + 1)\n",
        "                ]\n",
        "                for nr, nc in neighbors:\n",
        "                    if 0 <= nr < rows and 0 <= nc < cols and image_array[nr, nc] == 0:\n",
        "                        shape_pixels.append((r, c))\n",
        "                        break\n",
        "    return shape_pixels\n",
        "\n",
        "def rotate_pixels_180(pixels, center):\n",
        "    return [(2*center[0] - r, 2*center[1] - c) for r, c in pixels]\n",
        "\n",
        "pixels = np.clip(pixels, 0, 255).astype(np.uint8)\n",
        "\n",
        "# Copy the original image (for non-destructive transformation)\n",
        "original_pixels = pixels.copy()\n",
        "\n",
        "# Find the shape pixels (black pixels with black neighbors)\n",
        "shape_pixels = get_shape_pixels(pixels)\n",
        "\n",
        "# Make the shape white in the original image\n",
        "for r, c in shape_pixels:\n",
        "    original_pixels[r, c] = 255  # Set the shape pixels to white\n",
        "\n",
        "# Calculate center of the shape\n",
        "r_coords, c_coords = zip(*shape_pixels)\n",
        "center_r = sum(r_coords) / len(r_coords)\n",
        "center_c = sum(c_coords) / len(c_coords)\n",
        "center = (center_r, center_c)\n",
        "\n",
        "# Rotate the shape 180 degrees\n",
        "rotated_shape = rotate_pixels_180(shape_pixels, center)\n",
        "\n",
        "# Create a new copy for the rotated shape (to keep the original intact)\n",
        "rotated_image = original_pixels.copy()\n",
        "\n",
        "# Place the rotated shape back at the same location in the rotated image\n",
        "for r, c in rotated_shape:\n",
        "    if 0 <= int(r) < rotated_image.shape[0] and 0 <= int(c) < rotated_image.shape[1]:\n",
        "        rotated_image[int(r), int(c)] = 0  # Set rotated pixels back to black\n",
        "# Show and save result\n",
        "final_img = Image.fromarray(rotated_image)\n",
        "#--------------------------------------------------------------------------------------------------------------\n",
        "def find_isolated_black_pixels(image_array):\n",
        "    rows, cols = image_array.shape\n",
        "    masked_eye = []\n",
        "\n",
        "    for r in range(rows):\n",
        "        for c in range(cols):\n",
        "            if image_array[r, c] == 0:\n",
        "                is_isolated = True\n",
        "                neighbors = [\n",
        "                    (r - 1, c), (r + 1, c),\n",
        "                    (r, c - 1), (r, c + 1),\n",
        "                    (r - 1, c - 1), (r - 1, c + 1),\n",
        "                    (r + 1, c - 1), (r + 1, c + 1)\n",
        "                ]\n",
        "                for nr, nc in neighbors:\n",
        "                    if 0 <= nr < rows and 0 <= nc < cols and image_array[nr, nc] == 0:\n",
        "                        is_isolated = False\n",
        "                        break\n",
        "                if is_isolated:\n",
        "                    masked_eye.append((r, c))\n",
        "    return masked_eye\n",
        "\n",
        "rotated_image_rgb = np.stack([rotated_image] * 3, axis=-1)  # Convert to 3D array (height, width, 3)\n",
        "\n",
        "# Find isolated black pixels\n",
        "masked_eye = find_isolated_black_pixels(rotated_image)\n",
        "\n",
        "# Mark red isolated pixels\n",
        "for r, c in masked_eye:\n",
        "    rotated_image_rgb[r, c] = [255, 0, 0]  # Red (RGB)\n",
        "\n",
        "# Add 1-pixel-wide blue border\n",
        "rows, cols = rotated_image_rgb.shape[:2]\n",
        "for r in range(rows):\n",
        "    for c in range(cols):\n",
        "        if r == 0 or r == rows - 1 or c == 0 or c == cols - 1:\n",
        "            rotated_image_rgb[r, c] = [0, 0, 255]  # Blue\n",
        "#------------------------------------------------------------------------------------------------------------------\n",
        "final_img = Image.fromarray(rotated_image_rgb)\n",
        "final_img.show()\n",
        "\n",
        "# Save the final image\n",
        "final_img.save(\"rotated_pixels_with_red_and_blue.png\")"
      ],
      "metadata": {
        "id": "G6Ovh2DLR256"
      },
      "execution_count": 93,
      "outputs": []
    },
    {
      "cell_type": "code",
      "source": [
        "#phase 4\n",
        "img = Image.open(\"/content/rotated_pixels_with_red_and_blue.png\")\n",
        "img_array = np.array(img)\n",
        "\n",
        "# Define a 3x3 mean filter kernel\n",
        "mean_kernel = np.ones((3, 3)) / 9\n",
        "\n",
        "# Apply the filter to each RGB channel\n",
        "filtered_array = np.zeros_like(img_array)\n",
        "for i in range(3):  # for R, G, B\n",
        "    filtered_array[:, :, i] = convolve(img_array[:, :, i], mean_kernel, mode='nearest')\n",
        "\n",
        "# Convert back to image and display\n",
        "filtered_img = Image.fromarray(filtered_array.astype(np.uint8))\n",
        "filtered_img.show()\n",
        "filtered_img.save(\"final_mean_filtered.png\")"
      ],
      "metadata": {
        "id": "EV9f2ohyjNcI"
      },
      "execution_count": 94,
      "outputs": []
    },
    {
      "cell_type": "markdown",
      "source": [
        "[link text](https://)"
      ],
      "metadata": {
        "id": "edSRaYifjMgy"
      }
    },
    {
      "cell_type": "code",
      "source": [
        "#phase 5\n",
        "print(\"How many black pixels were found?\")\n",
        "print(f\"Number of black pixels: {black_pixel_count}\")\n",
        "print(\"● What are the coordinates of the black pixels?\")\n",
        "print(\"Coordinates of black pixels:\")\n",
        "for y, x in black_pixel_coords:  # note: rows = y, cols = x\n",
        "    print(f\"({x}, {y})\")\n",
        "print(\"● What is the bounding box?\")\n",
        "print(f\"Bounding box:\")\n",
        "print(f\"  min_x: {min_x}, max_x: {max_x}\")\n",
        "print(f\"  min_y: {min_y}, max_y: {max_y}\")\n",
        "\n",
        "print(\"● What features did you detect in the image?\")\n"
      ],
      "metadata": {
        "colab": {
          "base_uri": "https://localhost:8080/"
        },
        "id": "9nu58toRlZVC",
        "outputId": "b98ca8c3-37dd-4029-c19a-67b33cddddac"
      },
      "execution_count": 95,
      "outputs": [
        {
          "output_type": "stream",
          "name": "stdout",
          "text": [
            "How many black pixels were found?\n",
            "Number of black pixels: 9\n",
            "● What are the coordinates of the black pixels?\n",
            "Coordinates of black pixels:\n",
            "(5, 5)\n",
            "(14, 5)\n",
            "(6, 13)\n",
            "(12, 13)\n",
            "(7, 14)\n",
            "(8, 14)\n",
            "(9, 14)\n",
            "(10, 14)\n",
            "(11, 14)\n",
            "● What is the bounding box?\n",
            "Bounding box:\n",
            "  min_x: 5, max_x: 14\n",
            "  min_y: 5, max_y: 14\n",
            "● What features did you detect in the image?\n"
          ]
        }
      ]
    }
  ]
}